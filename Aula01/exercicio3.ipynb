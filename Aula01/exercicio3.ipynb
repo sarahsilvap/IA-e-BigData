{
 "cells": [
  {
   "cell_type": "code",
   "execution_count": 8,
   "metadata": {},
   "outputs": [],
   "source": [
    "import pandas as pd"
   ]
  },
  {
   "cell_type": "code",
   "execution_count": 19,
   "metadata": {},
   "outputs": [],
   "source": [
    "dicionario = {\n",
    "    \"ID\": [1, 2, 3, 4],\n",
    "    \"Setor\": ['RH', 'Vendas', 'Administrativo', 'Produção']\n",
    "}\n",
    "\n",
    "labels = [\"Ana\", \"Pedro\", \"Maria\", \"João\"]\n"
   ]
  },
  {
   "cell_type": "code",
   "execution_count": 20,
   "metadata": {},
   "outputs": [],
   "source": [
    "dicionario2 = {\n",
    "    \"ID\": [1, 2, 3, 4],\n",
    "    \"Salário\": [3000, 2800, 3200, 2500]\n",
    "}\n",
    "\n",
    "labels2 = [\"Ana\", \"Pedro\", \"Maria\", \"João\"]\n"
   ]
  },
  {
   "cell_type": "code",
   "execution_count": 21,
   "metadata": {},
   "outputs": [],
   "source": [
    "df1 = pd.DataFrame(dicionario, index=labels)\n",
    "df2 = pd.DataFrame(dicionario2, index=labels2)"
   ]
  },
  {
   "cell_type": "code",
   "execution_count": 22,
   "metadata": {},
   "outputs": [],
   "source": [
    "df_n = pd.merge(df1, df2, how='inner', on='ID')"
   ]
  },
  {
   "cell_type": "code",
   "execution_count": 24,
   "metadata": {},
   "outputs": [
    {
     "name": "stdout",
     "output_type": "stream",
     "text": [
      "   ID           Setor  Salário\n",
      "0   1              RH     3000\n",
      "1   2          Vendas     2800\n",
      "2   3  Administrativo     3200\n",
      "3   4        Produção     2500\n"
     ]
    }
   ],
   "source": [
    "print(df_n)"
   ]
  }
 ],
 "metadata": {
  "kernelspec": {
   "display_name": "Python 3",
   "language": "python",
   "name": "python3"
  },
  "language_info": {
   "codemirror_mode": {
    "name": "ipython",
    "version": 3
   },
   "file_extension": ".py",
   "mimetype": "text/x-python",
   "name": "python",
   "nbconvert_exporter": "python",
   "pygments_lexer": "ipython3",
   "version": "3.12.0"
  }
 },
 "nbformat": 4,
 "nbformat_minor": 2
}
